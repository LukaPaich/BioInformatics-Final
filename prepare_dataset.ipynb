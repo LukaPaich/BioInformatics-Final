{
 "cells": [
  {
   "cell_type": "markdown",
   "metadata": {},
   "source": [
    "### Create Directory Tree"
   ]
  },
  {
   "cell_type": "code",
   "execution_count": null,
   "metadata": {},
   "outputs": [],
   "source": [
    "import os\n",
    "\n",
    "def create_folder_if_not_exists(folder):\n",
    "    if not os.path.exists(folder):\n",
    "        os.makedirs(folder)\n",
    "\n",
    "create_folder_if_not_exists('raw')\n",
    "create_folder_if_not_exists('processed')\n",
    "create_folder_if_not_exists('raw/chr-fa-data')\n",
    "create_folder_if_not_exists('processed/chr-fa-data')"
   ]
  },
  {
   "cell_type": "markdown",
   "metadata": {},
   "source": [
    "### Download FASTA Files and Annotations "
   ]
  },
  {
   "cell_type": "code",
   "execution_count": null,
   "metadata": {},
   "outputs": [],
   "source": [
    "import requests\n",
    "import gzip\n",
    "\n",
    "def download_chromosome(chromosome):\n",
    "    url = f\"http://hgdownload.soe.ucsc.edu/goldenPath/hg38/chromosomes/chr{chromosome}.fa.gz\"\n",
    "    response = requests.get(url)\n",
    "    if response.status_code == 200:\n",
    "        decompressed_content = gzip.decompress(response.content)\n",
    "        with open(f\"raw/chr-fa-data/chr{chromosome}.fa\", \"wb\") as file:\n",
    "            file.write(decompressed_content)\n",
    "        print(\"Download and unzip complete\")\n",
    "    else:\n",
    "        print(\"Failed to download chromosome\", chromosome)\n",
    "\n",
    "\n",
    "\n",
    "for i in range(1, 23):\n",
    "    print(\"Downloading chromosome\", i)\n",
    "    download_chromosome(i)"
   ]
  },
  {
   "cell_type": "code",
   "execution_count": null,
   "metadata": {},
   "outputs": [],
   "source": [
    "import requests\n",
    "import gzip\n",
    "\n",
    "def download_annotations():\n",
    "    url = \"https://ftp.ebi.ac.uk/pub/databases/gencode/Gencode_human/release_46/gencode.v46.annotation.gtf.gz\"\n",
    "    response = requests.get(url)\n",
    "    if response.status_code == 200:\n",
    "        # Decompress the content\n",
    "        decompressed_content = gzip.decompress(response.content)\n",
    "        # Write the decompressed content to a file\n",
    "        with open(\"raw/gencode.v46.annotation.gtf\", \"wb\") as file:\n",
    "            file.write(decompressed_content)\n",
    "        print(\"Download and unzip complete\")\n",
    "    else:\n",
    "        print(\"Failed to download annotations\")\n",
    "\n",
    "download_annotations()"
   ]
  },
  {
   "cell_type": "markdown",
   "metadata": {},
   "source": [
    "### Process FASTA file to leave only raw dna data"
   ]
  },
  {
   "cell_type": "code",
   "execution_count": 1,
   "metadata": {},
   "outputs": [
    {
     "name": "stdout",
     "output_type": "stream",
     "text": [
      "Processing chromosome 1\n",
      "Processing chromosome 2\n",
      "Processing chromosome 3\n",
      "Processing chromosome 4\n",
      "Processing chromosome 5\n",
      "Processing chromosome 6\n",
      "Processing chromosome 7\n",
      "Processing chromosome 8\n",
      "Processing chromosome 9\n",
      "Processing chromosome 10\n",
      "Processing chromosome 11\n",
      "Processing chromosome 12\n",
      "Processing chromosome 13\n",
      "Processing chromosome 14\n",
      "Processing chromosome 15\n",
      "Processing chromosome 16\n",
      "Processing chromosome 17\n",
      "Processing chromosome 18\n",
      "Processing chromosome 19\n",
      "Processing chromosome 20\n",
      "Processing chromosome 21\n",
      "Processing chromosome 22\n"
     ]
    }
   ],
   "source": [
    "def process_chr_fa_data(chr_id):\n",
    "    # Read the content of the file\n",
    "    with open(f\"raw/chr-fa-data/chr{chr_id}.fa\", \"r\") as file:\n",
    "        content = file.read()\n",
    "    # Remove lines starting with \">\"\n",
    "    sequence = ''.join([line for line in content.split('\\n') if not line.startswith('>')])\n",
    "    sequence = sequence.replace('\\n', '')\n",
    "    # Annotations are one indexed so add a space at the beginning and end of the sequence\n",
    "    sequence = ' '+sequence+' '\n",
    "    with open(f\"processed/chr-fa-data/chr{chr_id}.txt\", \"w\") as file:\n",
    "        file.write(sequence)\n",
    "\n",
    "for i in range(1, 23):\n",
    "    print(\"Processing chromosome\", i)\n",
    "    process_chr_fa_data(i)"
   ]
  },
  {
   "cell_type": "markdown",
   "metadata": {},
   "source": [
    "### Read the annotation file and create a separate annotation csv file for each chromosome"
   ]
  },
  {
   "cell_type": "code",
   "execution_count": 2,
   "metadata": {},
   "outputs": [
    {
     "name": "stdout",
     "output_type": "stream",
     "text": [
      "Creating annotations for chromosome 1\n"
     ]
    },
    {
     "name": "stderr",
     "output_type": "stream",
     "text": [
      "C:\\Users\\Luka\\AppData\\Local\\Temp\\ipykernel_26944\\3716701336.py:17: SettingWithCopyWarning: \n",
      "A value is trying to be set on a copy of a slice from a DataFrame.\n",
      "Try using .loc[row_indexer,col_indexer] = value instead\n",
      "\n",
      "See the caveats in the documentation: https://pandas.pydata.org/pandas-docs/stable/user_guide/indexing.html#returning-a-view-versus-a-copy\n",
      "  chr_no['gene_id'] = chr_no['other'].apply(lambda x: x.split(';')[0].split(' ')[1])\n",
      "C:\\Users\\Luka\\AppData\\Local\\Temp\\ipykernel_26944\\3716701336.py:28: SettingWithCopyWarning: \n",
      "A value is trying to be set on a copy of a slice from a DataFrame.\n",
      "Try using .loc[row_indexer,col_indexer] = value instead\n",
      "\n",
      "See the caveats in the documentation: https://pandas.pydata.org/pandas-docs/stable/user_guide/indexing.html#returning-a-view-versus-a-copy\n",
      "  chr_no['transcript_id'] = chr_no['other'].apply(lambda x: get_transcript_id(x))\n"
     ]
    },
    {
     "name": "stdout",
     "output_type": "stream",
     "text": [
      "Creating annotations for chromosome 2\n"
     ]
    },
    {
     "name": "stderr",
     "output_type": "stream",
     "text": [
      "C:\\Users\\Luka\\AppData\\Local\\Temp\\ipykernel_26944\\3716701336.py:17: SettingWithCopyWarning: \n",
      "A value is trying to be set on a copy of a slice from a DataFrame.\n",
      "Try using .loc[row_indexer,col_indexer] = value instead\n",
      "\n",
      "See the caveats in the documentation: https://pandas.pydata.org/pandas-docs/stable/user_guide/indexing.html#returning-a-view-versus-a-copy\n",
      "  chr_no['gene_id'] = chr_no['other'].apply(lambda x: x.split(';')[0].split(' ')[1])\n",
      "C:\\Users\\Luka\\AppData\\Local\\Temp\\ipykernel_26944\\3716701336.py:28: SettingWithCopyWarning: \n",
      "A value is trying to be set on a copy of a slice from a DataFrame.\n",
      "Try using .loc[row_indexer,col_indexer] = value instead\n",
      "\n",
      "See the caveats in the documentation: https://pandas.pydata.org/pandas-docs/stable/user_guide/indexing.html#returning-a-view-versus-a-copy\n",
      "  chr_no['transcript_id'] = chr_no['other'].apply(lambda x: get_transcript_id(x))\n"
     ]
    },
    {
     "name": "stdout",
     "output_type": "stream",
     "text": [
      "Creating annotations for chromosome 3\n"
     ]
    },
    {
     "name": "stderr",
     "output_type": "stream",
     "text": [
      "C:\\Users\\Luka\\AppData\\Local\\Temp\\ipykernel_26944\\3716701336.py:17: SettingWithCopyWarning: \n",
      "A value is trying to be set on a copy of a slice from a DataFrame.\n",
      "Try using .loc[row_indexer,col_indexer] = value instead\n",
      "\n",
      "See the caveats in the documentation: https://pandas.pydata.org/pandas-docs/stable/user_guide/indexing.html#returning-a-view-versus-a-copy\n",
      "  chr_no['gene_id'] = chr_no['other'].apply(lambda x: x.split(';')[0].split(' ')[1])\n",
      "C:\\Users\\Luka\\AppData\\Local\\Temp\\ipykernel_26944\\3716701336.py:28: SettingWithCopyWarning: \n",
      "A value is trying to be set on a copy of a slice from a DataFrame.\n",
      "Try using .loc[row_indexer,col_indexer] = value instead\n",
      "\n",
      "See the caveats in the documentation: https://pandas.pydata.org/pandas-docs/stable/user_guide/indexing.html#returning-a-view-versus-a-copy\n",
      "  chr_no['transcript_id'] = chr_no['other'].apply(lambda x: get_transcript_id(x))\n"
     ]
    },
    {
     "name": "stdout",
     "output_type": "stream",
     "text": [
      "Creating annotations for chromosome 4\n"
     ]
    },
    {
     "name": "stderr",
     "output_type": "stream",
     "text": [
      "C:\\Users\\Luka\\AppData\\Local\\Temp\\ipykernel_26944\\3716701336.py:17: SettingWithCopyWarning: \n",
      "A value is trying to be set on a copy of a slice from a DataFrame.\n",
      "Try using .loc[row_indexer,col_indexer] = value instead\n",
      "\n",
      "See the caveats in the documentation: https://pandas.pydata.org/pandas-docs/stable/user_guide/indexing.html#returning-a-view-versus-a-copy\n",
      "  chr_no['gene_id'] = chr_no['other'].apply(lambda x: x.split(';')[0].split(' ')[1])\n",
      "C:\\Users\\Luka\\AppData\\Local\\Temp\\ipykernel_26944\\3716701336.py:28: SettingWithCopyWarning: \n",
      "A value is trying to be set on a copy of a slice from a DataFrame.\n",
      "Try using .loc[row_indexer,col_indexer] = value instead\n",
      "\n",
      "See the caveats in the documentation: https://pandas.pydata.org/pandas-docs/stable/user_guide/indexing.html#returning-a-view-versus-a-copy\n",
      "  chr_no['transcript_id'] = chr_no['other'].apply(lambda x: get_transcript_id(x))\n"
     ]
    },
    {
     "name": "stdout",
     "output_type": "stream",
     "text": [
      "Creating annotations for chromosome 5\n"
     ]
    },
    {
     "name": "stderr",
     "output_type": "stream",
     "text": [
      "C:\\Users\\Luka\\AppData\\Local\\Temp\\ipykernel_26944\\3716701336.py:17: SettingWithCopyWarning: \n",
      "A value is trying to be set on a copy of a slice from a DataFrame.\n",
      "Try using .loc[row_indexer,col_indexer] = value instead\n",
      "\n",
      "See the caveats in the documentation: https://pandas.pydata.org/pandas-docs/stable/user_guide/indexing.html#returning-a-view-versus-a-copy\n",
      "  chr_no['gene_id'] = chr_no['other'].apply(lambda x: x.split(';')[0].split(' ')[1])\n",
      "C:\\Users\\Luka\\AppData\\Local\\Temp\\ipykernel_26944\\3716701336.py:28: SettingWithCopyWarning: \n",
      "A value is trying to be set on a copy of a slice from a DataFrame.\n",
      "Try using .loc[row_indexer,col_indexer] = value instead\n",
      "\n",
      "See the caveats in the documentation: https://pandas.pydata.org/pandas-docs/stable/user_guide/indexing.html#returning-a-view-versus-a-copy\n",
      "  chr_no['transcript_id'] = chr_no['other'].apply(lambda x: get_transcript_id(x))\n"
     ]
    },
    {
     "name": "stdout",
     "output_type": "stream",
     "text": [
      "Creating annotations for chromosome 6\n"
     ]
    },
    {
     "name": "stderr",
     "output_type": "stream",
     "text": [
      "C:\\Users\\Luka\\AppData\\Local\\Temp\\ipykernel_26944\\3716701336.py:17: SettingWithCopyWarning: \n",
      "A value is trying to be set on a copy of a slice from a DataFrame.\n",
      "Try using .loc[row_indexer,col_indexer] = value instead\n",
      "\n",
      "See the caveats in the documentation: https://pandas.pydata.org/pandas-docs/stable/user_guide/indexing.html#returning-a-view-versus-a-copy\n",
      "  chr_no['gene_id'] = chr_no['other'].apply(lambda x: x.split(';')[0].split(' ')[1])\n",
      "C:\\Users\\Luka\\AppData\\Local\\Temp\\ipykernel_26944\\3716701336.py:28: SettingWithCopyWarning: \n",
      "A value is trying to be set on a copy of a slice from a DataFrame.\n",
      "Try using .loc[row_indexer,col_indexer] = value instead\n",
      "\n",
      "See the caveats in the documentation: https://pandas.pydata.org/pandas-docs/stable/user_guide/indexing.html#returning-a-view-versus-a-copy\n",
      "  chr_no['transcript_id'] = chr_no['other'].apply(lambda x: get_transcript_id(x))\n"
     ]
    },
    {
     "name": "stdout",
     "output_type": "stream",
     "text": [
      "Creating annotations for chromosome 7\n"
     ]
    },
    {
     "name": "stderr",
     "output_type": "stream",
     "text": [
      "C:\\Users\\Luka\\AppData\\Local\\Temp\\ipykernel_26944\\3716701336.py:17: SettingWithCopyWarning: \n",
      "A value is trying to be set on a copy of a slice from a DataFrame.\n",
      "Try using .loc[row_indexer,col_indexer] = value instead\n",
      "\n",
      "See the caveats in the documentation: https://pandas.pydata.org/pandas-docs/stable/user_guide/indexing.html#returning-a-view-versus-a-copy\n",
      "  chr_no['gene_id'] = chr_no['other'].apply(lambda x: x.split(';')[0].split(' ')[1])\n",
      "C:\\Users\\Luka\\AppData\\Local\\Temp\\ipykernel_26944\\3716701336.py:28: SettingWithCopyWarning: \n",
      "A value is trying to be set on a copy of a slice from a DataFrame.\n",
      "Try using .loc[row_indexer,col_indexer] = value instead\n",
      "\n",
      "See the caveats in the documentation: https://pandas.pydata.org/pandas-docs/stable/user_guide/indexing.html#returning-a-view-versus-a-copy\n",
      "  chr_no['transcript_id'] = chr_no['other'].apply(lambda x: get_transcript_id(x))\n"
     ]
    },
    {
     "name": "stdout",
     "output_type": "stream",
     "text": [
      "Creating annotations for chromosome 8\n"
     ]
    },
    {
     "name": "stderr",
     "output_type": "stream",
     "text": [
      "C:\\Users\\Luka\\AppData\\Local\\Temp\\ipykernel_26944\\3716701336.py:17: SettingWithCopyWarning: \n",
      "A value is trying to be set on a copy of a slice from a DataFrame.\n",
      "Try using .loc[row_indexer,col_indexer] = value instead\n",
      "\n",
      "See the caveats in the documentation: https://pandas.pydata.org/pandas-docs/stable/user_guide/indexing.html#returning-a-view-versus-a-copy\n",
      "  chr_no['gene_id'] = chr_no['other'].apply(lambda x: x.split(';')[0].split(' ')[1])\n",
      "C:\\Users\\Luka\\AppData\\Local\\Temp\\ipykernel_26944\\3716701336.py:28: SettingWithCopyWarning: \n",
      "A value is trying to be set on a copy of a slice from a DataFrame.\n",
      "Try using .loc[row_indexer,col_indexer] = value instead\n",
      "\n",
      "See the caveats in the documentation: https://pandas.pydata.org/pandas-docs/stable/user_guide/indexing.html#returning-a-view-versus-a-copy\n",
      "  chr_no['transcript_id'] = chr_no['other'].apply(lambda x: get_transcript_id(x))\n"
     ]
    },
    {
     "name": "stdout",
     "output_type": "stream",
     "text": [
      "Creating annotations for chromosome 9\n"
     ]
    },
    {
     "name": "stderr",
     "output_type": "stream",
     "text": [
      "C:\\Users\\Luka\\AppData\\Local\\Temp\\ipykernel_26944\\3716701336.py:17: SettingWithCopyWarning: \n",
      "A value is trying to be set on a copy of a slice from a DataFrame.\n",
      "Try using .loc[row_indexer,col_indexer] = value instead\n",
      "\n",
      "See the caveats in the documentation: https://pandas.pydata.org/pandas-docs/stable/user_guide/indexing.html#returning-a-view-versus-a-copy\n",
      "  chr_no['gene_id'] = chr_no['other'].apply(lambda x: x.split(';')[0].split(' ')[1])\n",
      "C:\\Users\\Luka\\AppData\\Local\\Temp\\ipykernel_26944\\3716701336.py:28: SettingWithCopyWarning: \n",
      "A value is trying to be set on a copy of a slice from a DataFrame.\n",
      "Try using .loc[row_indexer,col_indexer] = value instead\n",
      "\n",
      "See the caveats in the documentation: https://pandas.pydata.org/pandas-docs/stable/user_guide/indexing.html#returning-a-view-versus-a-copy\n",
      "  chr_no['transcript_id'] = chr_no['other'].apply(lambda x: get_transcript_id(x))\n"
     ]
    },
    {
     "name": "stdout",
     "output_type": "stream",
     "text": [
      "Creating annotations for chromosome 10\n"
     ]
    },
    {
     "name": "stderr",
     "output_type": "stream",
     "text": [
      "C:\\Users\\Luka\\AppData\\Local\\Temp\\ipykernel_26944\\3716701336.py:17: SettingWithCopyWarning: \n",
      "A value is trying to be set on a copy of a slice from a DataFrame.\n",
      "Try using .loc[row_indexer,col_indexer] = value instead\n",
      "\n",
      "See the caveats in the documentation: https://pandas.pydata.org/pandas-docs/stable/user_guide/indexing.html#returning-a-view-versus-a-copy\n",
      "  chr_no['gene_id'] = chr_no['other'].apply(lambda x: x.split(';')[0].split(' ')[1])\n",
      "C:\\Users\\Luka\\AppData\\Local\\Temp\\ipykernel_26944\\3716701336.py:28: SettingWithCopyWarning: \n",
      "A value is trying to be set on a copy of a slice from a DataFrame.\n",
      "Try using .loc[row_indexer,col_indexer] = value instead\n",
      "\n",
      "See the caveats in the documentation: https://pandas.pydata.org/pandas-docs/stable/user_guide/indexing.html#returning-a-view-versus-a-copy\n",
      "  chr_no['transcript_id'] = chr_no['other'].apply(lambda x: get_transcript_id(x))\n"
     ]
    },
    {
     "name": "stdout",
     "output_type": "stream",
     "text": [
      "Creating annotations for chromosome 11\n"
     ]
    },
    {
     "name": "stderr",
     "output_type": "stream",
     "text": [
      "C:\\Users\\Luka\\AppData\\Local\\Temp\\ipykernel_26944\\3716701336.py:17: SettingWithCopyWarning: \n",
      "A value is trying to be set on a copy of a slice from a DataFrame.\n",
      "Try using .loc[row_indexer,col_indexer] = value instead\n",
      "\n",
      "See the caveats in the documentation: https://pandas.pydata.org/pandas-docs/stable/user_guide/indexing.html#returning-a-view-versus-a-copy\n",
      "  chr_no['gene_id'] = chr_no['other'].apply(lambda x: x.split(';')[0].split(' ')[1])\n",
      "C:\\Users\\Luka\\AppData\\Local\\Temp\\ipykernel_26944\\3716701336.py:28: SettingWithCopyWarning: \n",
      "A value is trying to be set on a copy of a slice from a DataFrame.\n",
      "Try using .loc[row_indexer,col_indexer] = value instead\n",
      "\n",
      "See the caveats in the documentation: https://pandas.pydata.org/pandas-docs/stable/user_guide/indexing.html#returning-a-view-versus-a-copy\n",
      "  chr_no['transcript_id'] = chr_no['other'].apply(lambda x: get_transcript_id(x))\n"
     ]
    },
    {
     "name": "stdout",
     "output_type": "stream",
     "text": [
      "Creating annotations for chromosome 12\n"
     ]
    },
    {
     "name": "stderr",
     "output_type": "stream",
     "text": [
      "C:\\Users\\Luka\\AppData\\Local\\Temp\\ipykernel_26944\\3716701336.py:17: SettingWithCopyWarning: \n",
      "A value is trying to be set on a copy of a slice from a DataFrame.\n",
      "Try using .loc[row_indexer,col_indexer] = value instead\n",
      "\n",
      "See the caveats in the documentation: https://pandas.pydata.org/pandas-docs/stable/user_guide/indexing.html#returning-a-view-versus-a-copy\n",
      "  chr_no['gene_id'] = chr_no['other'].apply(lambda x: x.split(';')[0].split(' ')[1])\n",
      "C:\\Users\\Luka\\AppData\\Local\\Temp\\ipykernel_26944\\3716701336.py:28: SettingWithCopyWarning: \n",
      "A value is trying to be set on a copy of a slice from a DataFrame.\n",
      "Try using .loc[row_indexer,col_indexer] = value instead\n",
      "\n",
      "See the caveats in the documentation: https://pandas.pydata.org/pandas-docs/stable/user_guide/indexing.html#returning-a-view-versus-a-copy\n",
      "  chr_no['transcript_id'] = chr_no['other'].apply(lambda x: get_transcript_id(x))\n"
     ]
    },
    {
     "name": "stdout",
     "output_type": "stream",
     "text": [
      "Creating annotations for chromosome 13\n"
     ]
    },
    {
     "name": "stderr",
     "output_type": "stream",
     "text": [
      "C:\\Users\\Luka\\AppData\\Local\\Temp\\ipykernel_26944\\3716701336.py:17: SettingWithCopyWarning: \n",
      "A value is trying to be set on a copy of a slice from a DataFrame.\n",
      "Try using .loc[row_indexer,col_indexer] = value instead\n",
      "\n",
      "See the caveats in the documentation: https://pandas.pydata.org/pandas-docs/stable/user_guide/indexing.html#returning-a-view-versus-a-copy\n",
      "  chr_no['gene_id'] = chr_no['other'].apply(lambda x: x.split(';')[0].split(' ')[1])\n",
      "C:\\Users\\Luka\\AppData\\Local\\Temp\\ipykernel_26944\\3716701336.py:28: SettingWithCopyWarning: \n",
      "A value is trying to be set on a copy of a slice from a DataFrame.\n",
      "Try using .loc[row_indexer,col_indexer] = value instead\n",
      "\n",
      "See the caveats in the documentation: https://pandas.pydata.org/pandas-docs/stable/user_guide/indexing.html#returning-a-view-versus-a-copy\n",
      "  chr_no['transcript_id'] = chr_no['other'].apply(lambda x: get_transcript_id(x))\n"
     ]
    },
    {
     "name": "stdout",
     "output_type": "stream",
     "text": [
      "Creating annotations for chromosome 14\n"
     ]
    },
    {
     "name": "stderr",
     "output_type": "stream",
     "text": [
      "C:\\Users\\Luka\\AppData\\Local\\Temp\\ipykernel_26944\\3716701336.py:17: SettingWithCopyWarning: \n",
      "A value is trying to be set on a copy of a slice from a DataFrame.\n",
      "Try using .loc[row_indexer,col_indexer] = value instead\n",
      "\n",
      "See the caveats in the documentation: https://pandas.pydata.org/pandas-docs/stable/user_guide/indexing.html#returning-a-view-versus-a-copy\n",
      "  chr_no['gene_id'] = chr_no['other'].apply(lambda x: x.split(';')[0].split(' ')[1])\n",
      "C:\\Users\\Luka\\AppData\\Local\\Temp\\ipykernel_26944\\3716701336.py:28: SettingWithCopyWarning: \n",
      "A value is trying to be set on a copy of a slice from a DataFrame.\n",
      "Try using .loc[row_indexer,col_indexer] = value instead\n",
      "\n",
      "See the caveats in the documentation: https://pandas.pydata.org/pandas-docs/stable/user_guide/indexing.html#returning-a-view-versus-a-copy\n",
      "  chr_no['transcript_id'] = chr_no['other'].apply(lambda x: get_transcript_id(x))\n"
     ]
    },
    {
     "name": "stdout",
     "output_type": "stream",
     "text": [
      "Creating annotations for chromosome 15\n"
     ]
    },
    {
     "name": "stderr",
     "output_type": "stream",
     "text": [
      "C:\\Users\\Luka\\AppData\\Local\\Temp\\ipykernel_26944\\3716701336.py:17: SettingWithCopyWarning: \n",
      "A value is trying to be set on a copy of a slice from a DataFrame.\n",
      "Try using .loc[row_indexer,col_indexer] = value instead\n",
      "\n",
      "See the caveats in the documentation: https://pandas.pydata.org/pandas-docs/stable/user_guide/indexing.html#returning-a-view-versus-a-copy\n",
      "  chr_no['gene_id'] = chr_no['other'].apply(lambda x: x.split(';')[0].split(' ')[1])\n",
      "C:\\Users\\Luka\\AppData\\Local\\Temp\\ipykernel_26944\\3716701336.py:28: SettingWithCopyWarning: \n",
      "A value is trying to be set on a copy of a slice from a DataFrame.\n",
      "Try using .loc[row_indexer,col_indexer] = value instead\n",
      "\n",
      "See the caveats in the documentation: https://pandas.pydata.org/pandas-docs/stable/user_guide/indexing.html#returning-a-view-versus-a-copy\n",
      "  chr_no['transcript_id'] = chr_no['other'].apply(lambda x: get_transcript_id(x))\n"
     ]
    },
    {
     "name": "stdout",
     "output_type": "stream",
     "text": [
      "Creating annotations for chromosome 16\n"
     ]
    },
    {
     "name": "stderr",
     "output_type": "stream",
     "text": [
      "C:\\Users\\Luka\\AppData\\Local\\Temp\\ipykernel_26944\\3716701336.py:17: SettingWithCopyWarning: \n",
      "A value is trying to be set on a copy of a slice from a DataFrame.\n",
      "Try using .loc[row_indexer,col_indexer] = value instead\n",
      "\n",
      "See the caveats in the documentation: https://pandas.pydata.org/pandas-docs/stable/user_guide/indexing.html#returning-a-view-versus-a-copy\n",
      "  chr_no['gene_id'] = chr_no['other'].apply(lambda x: x.split(';')[0].split(' ')[1])\n",
      "C:\\Users\\Luka\\AppData\\Local\\Temp\\ipykernel_26944\\3716701336.py:28: SettingWithCopyWarning: \n",
      "A value is trying to be set on a copy of a slice from a DataFrame.\n",
      "Try using .loc[row_indexer,col_indexer] = value instead\n",
      "\n",
      "See the caveats in the documentation: https://pandas.pydata.org/pandas-docs/stable/user_guide/indexing.html#returning-a-view-versus-a-copy\n",
      "  chr_no['transcript_id'] = chr_no['other'].apply(lambda x: get_transcript_id(x))\n"
     ]
    },
    {
     "name": "stdout",
     "output_type": "stream",
     "text": [
      "Creating annotations for chromosome 17\n"
     ]
    },
    {
     "name": "stderr",
     "output_type": "stream",
     "text": [
      "C:\\Users\\Luka\\AppData\\Local\\Temp\\ipykernel_26944\\3716701336.py:17: SettingWithCopyWarning: \n",
      "A value is trying to be set on a copy of a slice from a DataFrame.\n",
      "Try using .loc[row_indexer,col_indexer] = value instead\n",
      "\n",
      "See the caveats in the documentation: https://pandas.pydata.org/pandas-docs/stable/user_guide/indexing.html#returning-a-view-versus-a-copy\n",
      "  chr_no['gene_id'] = chr_no['other'].apply(lambda x: x.split(';')[0].split(' ')[1])\n",
      "C:\\Users\\Luka\\AppData\\Local\\Temp\\ipykernel_26944\\3716701336.py:28: SettingWithCopyWarning: \n",
      "A value is trying to be set on a copy of a slice from a DataFrame.\n",
      "Try using .loc[row_indexer,col_indexer] = value instead\n",
      "\n",
      "See the caveats in the documentation: https://pandas.pydata.org/pandas-docs/stable/user_guide/indexing.html#returning-a-view-versus-a-copy\n",
      "  chr_no['transcript_id'] = chr_no['other'].apply(lambda x: get_transcript_id(x))\n"
     ]
    },
    {
     "name": "stdout",
     "output_type": "stream",
     "text": [
      "Creating annotations for chromosome 18\n"
     ]
    },
    {
     "name": "stderr",
     "output_type": "stream",
     "text": [
      "C:\\Users\\Luka\\AppData\\Local\\Temp\\ipykernel_26944\\3716701336.py:17: SettingWithCopyWarning: \n",
      "A value is trying to be set on a copy of a slice from a DataFrame.\n",
      "Try using .loc[row_indexer,col_indexer] = value instead\n",
      "\n",
      "See the caveats in the documentation: https://pandas.pydata.org/pandas-docs/stable/user_guide/indexing.html#returning-a-view-versus-a-copy\n",
      "  chr_no['gene_id'] = chr_no['other'].apply(lambda x: x.split(';')[0].split(' ')[1])\n",
      "C:\\Users\\Luka\\AppData\\Local\\Temp\\ipykernel_26944\\3716701336.py:28: SettingWithCopyWarning: \n",
      "A value is trying to be set on a copy of a slice from a DataFrame.\n",
      "Try using .loc[row_indexer,col_indexer] = value instead\n",
      "\n",
      "See the caveats in the documentation: https://pandas.pydata.org/pandas-docs/stable/user_guide/indexing.html#returning-a-view-versus-a-copy\n",
      "  chr_no['transcript_id'] = chr_no['other'].apply(lambda x: get_transcript_id(x))\n"
     ]
    },
    {
     "name": "stdout",
     "output_type": "stream",
     "text": [
      "Creating annotations for chromosome 19\n"
     ]
    },
    {
     "name": "stderr",
     "output_type": "stream",
     "text": [
      "C:\\Users\\Luka\\AppData\\Local\\Temp\\ipykernel_26944\\3716701336.py:17: SettingWithCopyWarning: \n",
      "A value is trying to be set on a copy of a slice from a DataFrame.\n",
      "Try using .loc[row_indexer,col_indexer] = value instead\n",
      "\n",
      "See the caveats in the documentation: https://pandas.pydata.org/pandas-docs/stable/user_guide/indexing.html#returning-a-view-versus-a-copy\n",
      "  chr_no['gene_id'] = chr_no['other'].apply(lambda x: x.split(';')[0].split(' ')[1])\n",
      "C:\\Users\\Luka\\AppData\\Local\\Temp\\ipykernel_26944\\3716701336.py:28: SettingWithCopyWarning: \n",
      "A value is trying to be set on a copy of a slice from a DataFrame.\n",
      "Try using .loc[row_indexer,col_indexer] = value instead\n",
      "\n",
      "See the caveats in the documentation: https://pandas.pydata.org/pandas-docs/stable/user_guide/indexing.html#returning-a-view-versus-a-copy\n",
      "  chr_no['transcript_id'] = chr_no['other'].apply(lambda x: get_transcript_id(x))\n"
     ]
    },
    {
     "name": "stdout",
     "output_type": "stream",
     "text": [
      "Creating annotations for chromosome 20\n"
     ]
    },
    {
     "name": "stderr",
     "output_type": "stream",
     "text": [
      "C:\\Users\\Luka\\AppData\\Local\\Temp\\ipykernel_26944\\3716701336.py:17: SettingWithCopyWarning: \n",
      "A value is trying to be set on a copy of a slice from a DataFrame.\n",
      "Try using .loc[row_indexer,col_indexer] = value instead\n",
      "\n",
      "See the caveats in the documentation: https://pandas.pydata.org/pandas-docs/stable/user_guide/indexing.html#returning-a-view-versus-a-copy\n",
      "  chr_no['gene_id'] = chr_no['other'].apply(lambda x: x.split(';')[0].split(' ')[1])\n",
      "C:\\Users\\Luka\\AppData\\Local\\Temp\\ipykernel_26944\\3716701336.py:28: SettingWithCopyWarning: \n",
      "A value is trying to be set on a copy of a slice from a DataFrame.\n",
      "Try using .loc[row_indexer,col_indexer] = value instead\n",
      "\n",
      "See the caveats in the documentation: https://pandas.pydata.org/pandas-docs/stable/user_guide/indexing.html#returning-a-view-versus-a-copy\n",
      "  chr_no['transcript_id'] = chr_no['other'].apply(lambda x: get_transcript_id(x))\n"
     ]
    },
    {
     "name": "stdout",
     "output_type": "stream",
     "text": [
      "Creating annotations for chromosome 21\n"
     ]
    },
    {
     "name": "stderr",
     "output_type": "stream",
     "text": [
      "C:\\Users\\Luka\\AppData\\Local\\Temp\\ipykernel_26944\\3716701336.py:17: SettingWithCopyWarning: \n",
      "A value is trying to be set on a copy of a slice from a DataFrame.\n",
      "Try using .loc[row_indexer,col_indexer] = value instead\n",
      "\n",
      "See the caveats in the documentation: https://pandas.pydata.org/pandas-docs/stable/user_guide/indexing.html#returning-a-view-versus-a-copy\n",
      "  chr_no['gene_id'] = chr_no['other'].apply(lambda x: x.split(';')[0].split(' ')[1])\n",
      "C:\\Users\\Luka\\AppData\\Local\\Temp\\ipykernel_26944\\3716701336.py:28: SettingWithCopyWarning: \n",
      "A value is trying to be set on a copy of a slice from a DataFrame.\n",
      "Try using .loc[row_indexer,col_indexer] = value instead\n",
      "\n",
      "See the caveats in the documentation: https://pandas.pydata.org/pandas-docs/stable/user_guide/indexing.html#returning-a-view-versus-a-copy\n",
      "  chr_no['transcript_id'] = chr_no['other'].apply(lambda x: get_transcript_id(x))\n"
     ]
    },
    {
     "name": "stdout",
     "output_type": "stream",
     "text": [
      "Creating annotations for chromosome 22\n"
     ]
    },
    {
     "name": "stderr",
     "output_type": "stream",
     "text": [
      "C:\\Users\\Luka\\AppData\\Local\\Temp\\ipykernel_26944\\3716701336.py:17: SettingWithCopyWarning: \n",
      "A value is trying to be set on a copy of a slice from a DataFrame.\n",
      "Try using .loc[row_indexer,col_indexer] = value instead\n",
      "\n",
      "See the caveats in the documentation: https://pandas.pydata.org/pandas-docs/stable/user_guide/indexing.html#returning-a-view-versus-a-copy\n",
      "  chr_no['gene_id'] = chr_no['other'].apply(lambda x: x.split(';')[0].split(' ')[1])\n",
      "C:\\Users\\Luka\\AppData\\Local\\Temp\\ipykernel_26944\\3716701336.py:28: SettingWithCopyWarning: \n",
      "A value is trying to be set on a copy of a slice from a DataFrame.\n",
      "Try using .loc[row_indexer,col_indexer] = value instead\n",
      "\n",
      "See the caveats in the documentation: https://pandas.pydata.org/pandas-docs/stable/user_guide/indexing.html#returning-a-view-versus-a-copy\n",
      "  chr_no['transcript_id'] = chr_no['other'].apply(lambda x: get_transcript_id(x))\n"
     ]
    }
   ],
   "source": [
    "import pandas as pd\n",
    "\n",
    "def create_chromosome_annotations(chrm_id):\n",
    "    annotation_file = \"raw/gencode.v46.annotation.gtf\"\n",
    "    col_names = ['chr_name', 'source', 'type', 'start', 'end', '.', 'strand', ',', 'other']\n",
    "    \n",
    "    ann = pd.read_csv(annotation_file, sep='\\t', comment='#', header=None)\n",
    "    ann.rename(columns={i: col_name for i, col_name in enumerate(col_names)}, inplace=True)\n",
    "    ann = ann[col_names]\n",
    "    \n",
    "    chrm = f'chr{chrm_id}'\n",
    "    chr_no = ann[ann['chr_name'] == f'chr{chrm_id}']\n",
    "    del chr_no['.']\n",
    "    del chr_no[',']\n",
    "    \n",
    "    # Extract gene names\n",
    "    chr_no['gene_id'] = chr_no['other'].apply(lambda x: x.split(';')[0].split(' ')[1])\n",
    "    \n",
    "    # Extract transcript ids\n",
    "    def get_transcript_id(x):\n",
    "        transcript_part = x.split(';')[1].split(' ')\n",
    "        \n",
    "        if transcript_part[1] == 'transcript_id':\n",
    "            return transcript_part[2]\n",
    "        return None\n",
    "            \n",
    "        \n",
    "    chr_no['transcript_id'] = chr_no['other'].apply(lambda x: get_transcript_id(x))\n",
    "    \n",
    "    del chr_no['other']\n",
    "    \n",
    "    chr_no.reset_index(drop=True, inplace=True)\n",
    "    chr_no.to_csv(f\"processed/chr-fa-data/{chrm}_annotations.csv\", index=False, sep='\\t')\n",
    "    \n",
    "\n",
    "for i in range(1, 23):\n",
    "    print(\"Creating annotations for chromosome\", i)\n",
    "    create_chromosome_annotations(i)\n",
    "\n",
    "    "
   ]
  },
  {
   "cell_type": "markdown",
   "metadata": {},
   "source": [
    "### Generating Dataset\n",
    "\n",
    "For each exon in a transcript of a gene we generate a random fully exon subsequence, a fully intron subsequence and a subsequence that contains both an intron part and an exon part (splice site)"
   ]
  },
  {
   "cell_type": "code",
   "execution_count": 23,
   "metadata": {},
   "outputs": [],
   "source": [
    "import pandas as pd\n",
    "import random\n",
    "\n",
    "SEQUENCE_LENGTH = 100\n",
    "MIN_MIX = 20\n",
    "MAX_MIX = 70\n",
    "\n",
    "random.seed(42)\n",
    "\n",
    "COMPLEMENTS = {'A': 'T', 'T': 'A', 'C': 'G', 'G': 'C', 'a': 't', 't': 'a', 'c': 'g', 'g': 'c'}\n",
    "\n",
    "def get_nonoverlapping_exon_bounds(exon_ranges_in_transcripts):\n",
    "    '''\n",
    "    Function to get non-overlapping exon bounds\n",
    "    :param exon_ranges_in_transcripts: list of lists (list of ranges)\n",
    "    :return: list of lists (list of ranges)\n",
    "    '''\n",
    "\n",
    "    exon_ranges_in_transcripts.sort(key=lambda x: x[0])\n",
    "    merged = []\n",
    "    for interval in exon_ranges_in_transcripts:\n",
    "        if len(merged) == 0 or merged[-1][1] < interval[0]:\n",
    "            merged.append(interval)\n",
    "        else:\n",
    "            merged[-1][1] = max(merged[-1][1], interval[1])\n",
    "    \n",
    "    return merged\n",
    "    \n",
    "\n",
    "def deal_with_negative_strand(sequence):\n",
    "    sequence = sequence[::-1] # Reverse\n",
    "    sequence = ''.join([COMPLEMENTS[base] for base in sequence]) # Take complements\n",
    "    return sequence\n",
    "\n",
    "def generate_dataset(chrm_id):\n",
    "    chrm_txt_file = f\"processed/chr-fa-data/chr{chrm_id}.txt\"\n",
    "    chrm_ann_file = f\"processed/chr-fa-data/chr{chrm_id}_annotations.csv\"\n",
    "    \n",
    "    COLUMNS = ['gene_id','transcript_id', 'start', 'end', 'sequence', 'label']\n",
    "    final_df = pd.DataFrame(columns=COLUMNS)\n",
    "    \n",
    "    with open(chrm_txt_file, \"r\") as file:\n",
    "        sequence = file.read()\n",
    "    ann_grouped = pd.read_csv(chrm_ann_file, sep='\\t').groupby('transcript_id')\n",
    "    \n",
    "    for transcript_id, group in ann_grouped:\n",
    "        gene_id = group['gene_id'].values[0]\n",
    "        transcript_start = group[group['type'] == 'transcript']['start'].min()\n",
    "        transcript_end = group[group['type'] == 'transcript']['end'].max()\n",
    "        strand = group['strand'].values[0]\n",
    "        \n",
    "        exon_ranges = []\n",
    "        for _, row in group[group['type'] == 'exon'].iterrows():\n",
    "            exon_ranges.append((row['start'], row['end']))\n",
    "    \n",
    "        if len(exon_ranges) >= 0:\n",
    "            nonoverlapping_exon_ranges_for_gene = get_nonoverlapping_exon_bounds(exon_ranges)\n",
    "            \n",
    "            for i in range(len(nonoverlapping_exon_ranges_for_gene)):\n",
    "                exon_start = nonoverlapping_exon_ranges_for_gene[i][0]\n",
    "                exon_end = nonoverlapping_exon_ranges_for_gene[i][1]\n",
    "                \n",
    "                if exon_end - exon_start  <= SEQUENCE_LENGTH or exon_start - transcript_start <= SEQUENCE_LENGTH or transcript_end - exon_end <= SEQUENCE_LENGTH:\n",
    "                    continue\n",
    "                \n",
    "                if i > 0 and exon_start - nonoverlapping_exon_ranges_for_gene[i-1][1] <= SEQUENCE_LENGTH:\n",
    "                    continue\n",
    "                \n",
    "                random_exon_start = random.randint(exon_start, exon_end-SEQUENCE_LENGTH)\n",
    "                random_exon_end = random_exon_start + SEQUENCE_LENGTH\n",
    "                \n",
    "                random_fully_exon_part = sequence[random_exon_start:random_exon_end]\n",
    "                \n",
    "                # if first just get random intron from transcript start\n",
    "                if i == 0:\n",
    "                    intron_part_start = random.randint(transcript_start, exon_start - SEQUENCE_LENGTH)\n",
    "                    intron_part_end = intron_part_start + SEQUENCE_LENGTH\n",
    "                    random_fully_intron_part = sequence[intron_part_start:intron_part_end]\n",
    "                else: # get intron from between exons\n",
    "                    intron_part_start = random.randint(nonoverlapping_exon_ranges_for_gene[i-1][1], exon_start - SEQUENCE_LENGTH)\n",
    "                    intron_part_end = intron_part_start + SEQUENCE_LENGTH\n",
    "                    random_fully_intron_part = sequence[intron_part_start:intron_part_end]\n",
    "                    \n",
    "                \n",
    "                if random.choice([True, False]): # sequence starts in exon\n",
    "                    boundary_part_end = random.randint(exon_start + MIN_MIX, exon_start + MAX_MIX)\n",
    "                    boundary_part_start = boundary_part_end - SEQUENCE_LENGTH\n",
    "                    random_boundary_part = sequence[boundary_part_start:boundary_part_end]\n",
    "                else: # sequence ends in exon\n",
    "                    boundary_part_start = random.randint(exon_end - MAX_MIX, exon_end - MIN_MIX)\n",
    "                    boundary_part_end = boundary_part_start + SEQUENCE_LENGTH\n",
    "                    random_boundary_part = sequence[boundary_part_start:boundary_part_end]\n",
    "                \n",
    "                if strand == '-': # take complement for negative strand\n",
    "                    random_fully_exon_part = deal_with_negative_strand(random_fully_exon_part)\n",
    "                    random_fully_intron_part = deal_with_negative_strand(random_fully_intron_part)\n",
    "                    random_boundary_part = deal_with_negative_strand(random_boundary_part)\n",
    "                \n",
    "                exon_row = pd.DataFrame([[gene_id, transcript_id, random_exon_start, random_exon_end, random_fully_exon_part, 'exon']], columns=COLUMNS)\n",
    "                intron_row = pd.DataFrame([[gene_id, transcript_id, intron_part_start, intron_part_end, random_fully_intron_part, 'intron']], columns=COLUMNS)\n",
    "                boundary_row = pd.DataFrame([[gene_id, transcript_id, boundary_part_start, boundary_part_end, random_boundary_part, 'boundary']], columns=COLUMNS)\n",
    "                \n",
    "                final_df = pd.concat([final_df, exon_row, intron_row, boundary_row])\n",
    "    \n",
    "    final_df.to_csv(f\"processed/chr-fa-data/chr{chrm_id}_dataset.csv\", index=False)\n",
    "\n",
    "generate_dataset(21)    "
   ]
  },
  {
   "cell_type": "code",
   "execution_count": 27,
   "metadata": {},
   "outputs": [
    {
     "name": "stderr",
     "output_type": "stream",
     "text": [
      "C:\\Users\\Luka\\AppData\\Local\\Temp\\ipykernel_26944\\1563011376.py:8: SettingWithCopyWarning: \n",
      "A value is trying to be set on a copy of a slice from a DataFrame.\n",
      "Try using .loc[row_indexer,col_indexer] = value instead\n",
      "\n",
      "See the caveats in the documentation: https://pandas.pydata.org/pandas-docs/stable/user_guide/indexing.html#returning-a-view-versus-a-copy\n",
      "  new_dataset['label'] = new_dataset['label'].apply(lambda x: 1 if x == 'boundary' else 0)\n"
     ]
    }
   ],
   "source": [
    "def make_training_dataset(chrm_id):\n",
    "    dataset_file = f\"processed/chr-fa-data/chr{chrm_id}_dataset.csv\"\n",
    "    \n",
    "    dataset = pd.read_csv(dataset_file)\n",
    "    \n",
    "    new_dataset = dataset[['sequence', 'label']]\n",
    "        \n",
    "    new_dataset['label'] = new_dataset['label'].apply(lambda x: 1 if x == 'boundary' else 0)\n",
    "    new_dataset.to_csv(f\"processed/chr-fa-data/chr{chrm_id}_training_dataset.csv\", index=False)\n",
    "    \n",
    "make_training_dataset(21)"
   ]
  }
 ],
 "metadata": {
  "kernelspec": {
   "display_name": "Python 3",
   "language": "python",
   "name": "python3"
  },
  "language_info": {
   "codemirror_mode": {
    "name": "ipython",
    "version": 3
   },
   "file_extension": ".py",
   "mimetype": "text/x-python",
   "name": "python",
   "nbconvert_exporter": "python",
   "pygments_lexer": "ipython3",
   "version": "3.12.4"
  }
 },
 "nbformat": 4,
 "nbformat_minor": 2
}
